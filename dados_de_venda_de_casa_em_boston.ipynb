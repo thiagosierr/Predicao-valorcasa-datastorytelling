{
  "nbformat": 4,
  "nbformat_minor": 0,
  "metadata": {
    "colab": {
      "provenance": [],
      "authorship_tag": "ABX9TyODEkxgiQ8X7Ry1g0Q/RUno",
      "include_colab_link": true
    },
    "kernelspec": {
      "name": "python3",
      "display_name": "Python 3"
    },
    "language_info": {
      "name": "python"
    }
  },
  "cells": [
    {
      "cell_type": "markdown",
      "metadata": {
        "id": "view-in-github",
        "colab_type": "text"
      },
      "source": [
        "<a href=\"https://colab.research.google.com/github/thiagosierr/Predicao-valorcasa-datastorytelling/blob/main/dados_de_venda_de_casa_em_boston.ipynb\" target=\"_parent\"><img src=\"https://colab.research.google.com/assets/colab-badge.svg\" alt=\"Open In Colab\"/></a>"
      ]
    },
    {
      "cell_type": "code",
      "execution_count": null,
      "metadata": {
        "id": "ASeviNYjV7tT"
      },
      "outputs": [],
      "source": [
        "import numpy as np\n",
        "import pandas as pd\n",
        "from sklearn.ensemble import GradientBoostingRegressor\n",
        "from sklearn.model_selection import train_test_split\n",
        "import urllib.request\n"
      ]
    },
    {
      "cell_type": "code",
      "source": [
        "# Manual dos dados: https://lib.stat.cmu.edu/dataset/boston"
      ],
      "metadata": {
        "id": "vINegmelWia-"
      },
      "execution_count": null,
      "outputs": []
    },
    {
      "cell_type": "markdown",
      "source": [
        "CRIM - per capita crime rate by town\n",
        "\n",
        "ZN - proportion of residential land zoned for lots over 25,000 sq.ft.\n",
        "\n",
        "INDUS - proportion of non-retail business acres per town.\n",
        "\n",
        "CHAS - Charles River dummy variable (1 if tract bounds river; 0 otherwise)\n",
        "\n",
        "NOX - nitric oxides concentration (parts per 10 million)\n",
        "\n",
        "RM - average number of rooms per dwelling\n",
        "\n",
        "AGE - proportion of owner-occupied units built prior to 1940\n",
        "\n",
        "DIS - weighted distances to five Boston employment centres\n",
        "\n",
        "RAD - index of accessibility to radial highways\n",
        "\n",
        "TAX - full-value property-tax rate per $10,000\n",
        "\n",
        "PTRATIO - pupil-teacher ratio by town\n",
        "\n",
        "B - 1000(Bk - 0.63)^2 where Bk is the proportion of blacks by town\n",
        "\n",
        "LSTAT - percent lower status of the population\n",
        "\n",
        "MEDV - Median value of owner-occupied homes in $1000's"
      ],
      "metadata": {
        "id": "gETdG7tgWmOf"
      }
    },
    {
      "cell_type": "code",
      "source": [
        "# Definindo as features\n",
        "\n",
        "boston_features = ['CRIM','ZN','INDUS','CHAS','NOX','RM','AGE','DIS','RAD','TAX','PTRATIO','B','LSTAT','MEDV']\n"
      ],
      "metadata": {
        "id": "57SktBGRWppA"
      },
      "execution_count": 1,
      "outputs": []
    },
    {
      "cell_type": "code",
      "source": [
        "# dados_url = \"https://archive.ics.uci.edu/ml/machine-learning-database/housing/housing.data\"\n",
        "# dados_url = \"https://raw.githubusercontent.com/selva86/datasets/master/BostonHousing.csv\"\n",
        "# local_file_path, headers = urllib.request.urlretrieve(dados_url)"
      ],
      "metadata": {
        "id": "ZIfxDJFQWsWx"
      },
      "execution_count": null,
      "outputs": []
    },
    {
      "cell_type": "code",
      "source": [
        "boston = pd.read_csv(\"dados_aluguel_boston.data\",delimiter=r\"\\s+\",names=boston_features)\n",
        "boston"
      ],
      "metadata": {
        "id": "JQzXI16jXBf8"
      },
      "execution_count": null,
      "outputs": []
    },
    {
      "cell_type": "code",
      "source": [
        "boston.describe()\n",
        "boston.corr()"
      ],
      "metadata": {
        "id": "hJEURa8NXFO6"
      },
      "execution_count": null,
      "outputs": []
    },
    {
      "cell_type": "code",
      "source": [
        "X = boston.iloc[:,:-1] #dados para o treinamento\n",
        "y = boston.iloc[:,-1] #dados para o treinamento de y (métrica que eu quero prever)\n",
        "\n",
        "#Divisão dos dados de treinamento\n",
        "X_train, X_test, y_train, y_test = train_test_split(X, y, test_size = 0.3, random_state=42)\n",
        "modelo_gb = GradientBoostingRegressor()\n",
        "\n",
        "modelo_gb.fit(X_train, y_train)"
      ],
      "metadata": {
        "id": "UEG6e_NXYOxz"
      },
      "execution_count": null,
      "outputs": []
    },
    {
      "cell_type": "code",
      "source": [
        "score = modelo_gb.score(X_test, y_test)\n",
        "print('Acurácia do modelo:', score)"
      ],
      "metadata": {
        "id": "RBn7KK4aYjb0"
      },
      "execution_count": null,
      "outputs": []
    },
    {
      "cell_type": "code",
      "source": [
        "#Previsão\n",
        "# CRIM\tZN\tINDUS\tCHAS NOX\tRM\tAGE\tDIS\tRAD\tTAX\tPTRATIO\tB\tLSTAT\tMEDV\n",
        "dados_entrada = [0.1,20,6,0,0.4,6,60,4,400,18,350,12,5]\n",
        "previsao = modelo_gb.predict([dados_entrada])\n",
        "\n",
        "#Visualização da previsão:\n",
        "print('Preço estimado para a casa: ',previsao[0])"
      ],
      "metadata": {
        "id": "AafdGronYnet"
      },
      "execution_count": null,
      "outputs": []
    },
    {
      "cell_type": "markdown",
      "source": [
        "# DADOS PARA STORY TELLING"
      ],
      "metadata": {
        "id": "x_JrosSCY3s2"
      }
    },
    {
      "cell_type": "code",
      "source": [
        "import matplotlib.pyplot as plt\n",
        "import seaborn as sns"
      ],
      "metadata": {
        "id": "bGT9panIZMnh"
      },
      "execution_count": null,
      "outputs": []
    },
    {
      "cell_type": "code",
      "source": [
        "# MEIO HEATMAP\n",
        "\n",
        "mascara = np.zeros_like(boston.corr())\n",
        "triangle_indices = np.triu_indices_from(mascara)\n",
        "mascara[triangle_indices] = True\n",
        "\n",
        "plt.figure(figsize=(16,10))\n",
        "sns.heatmap(boston.corr(), mask=mascara,annot=True,annot_kws={\"size\":14})\n",
        "sns.set_style('white')\n",
        "plt.xticks(fontsize=14)\n",
        "plt.yticks(fontsize=14)\n",
        "plt.show()"
      ],
      "metadata": {
        "id": "SzsoGzTFZGFh"
      },
      "execution_count": null,
      "outputs": []
    }
  ]
}